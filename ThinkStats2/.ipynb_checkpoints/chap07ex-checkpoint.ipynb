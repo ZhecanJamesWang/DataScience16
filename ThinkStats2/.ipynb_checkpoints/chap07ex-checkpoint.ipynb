{
 "cells": [
  {
   "cell_type": "markdown",
   "metadata": {},
   "source": [
    "Exercise from Think Stats, 2nd Edition (thinkstats2.com)<br>\n",
    "Allen Downey"
   ]
  },
  {
   "cell_type": "code",
   "execution_count": 29,
   "metadata": {
    "collapsed": false
   },
   "outputs": [],
   "source": [
    "%matplotlib inline"
   ]
  },
  {
   "cell_type": "markdown",
   "metadata": {},
   "source": [
    "Using data from the NSFG, make a scatter plot of birth weight versus mother’s age. Plot percentiles of birth weight versus mother’s age. Compute Pearson’s and Spearman’s correlations. How would you characterize the relationship between these variables? "
   ]
  },
  {
   "cell_type": "code",
   "execution_count": 30,
   "metadata": {
    "collapsed": false
   },
   "outputs": [
    {
     "data": {
      "image/png": "[encoded data removed]",
      "text/plain": [
       "<matplotlib.figure.Figure at 0x115586a10>"
      ]
     },
     "metadata": {},
     "output_type": "display_data"
    },
    {
     "data": {
      "text/plain": [
       "<matplotlib.figure.Figure at 0x1156845d0>"
      ]
     },
     "metadata": {},
     "output_type": "display_data"
    }
   ],
   "source": [
    "import nsfg\n",
    "import thinkplot\n",
    "\n",
    "\n",
    "df = nsfg.ReadFemPreg()\n",
    "df = df.dropna(subset = ['birthwgt_lb', 'agepreg'])\n",
    "age = df.agepreg\n",
    "weight = df.birthwgt_lb\n",
    "thinkplot.Scatter(age, weight)\n",
    "thinkplot.Show(xlabel = 'age(years)', ylabel = 'birth weight(lb)')\n"
   ]
  },
  {
   "cell_type": "code",
   "execution_count": 31,
   "metadata": {
    "collapsed": false
   },
   "outputs": [
    {
     "name": "stdout",
     "output_type": "stream",
     "text": [
      "0        33.16\n",
      "1        39.25\n",
      "2        14.33\n",
      "3        17.83\n",
      "4        18.33\n",
      "5        27.00\n",
      "6        28.83\n",
      "7        30.16\n",
      "8        28.08\n",
      "9        32.33\n",
      "10       25.75\n",
      "11       23.00\n",
      "12       24.58\n",
      "15       28.33\n",
      "16       30.33\n",
      "17       18.91\n",
      "19       27.91\n",
      "20       30.58\n",
      "21       18.91\n",
      "23       22.25\n",
      "24       25.75\n",
      "25       29.41\n",
      "26       32.66\n",
      "27       18.83\n",
      "28       20.83\n",
      "29       21.66\n",
      "31       33.08\n",
      "32       26.25\n",
      "33       27.91\n",
      "34       37.25\n",
      "         ...  \n",
      "13548    23.91\n",
      "13551    25.25\n",
      "13552    26.25\n",
      "13553    27.25\n",
      "13554    28.91\n",
      "13555    17.16\n",
      "13556    21.16\n",
      "13557    26.33\n",
      "13559    23.58\n",
      "13560    26.91\n",
      "13561    28.16\n",
      "13562    18.25\n",
      "13563    21.08\n",
      "13564    23.33\n",
      "13565    20.25\n",
      "13566    32.66\n",
      "13569    18.00\n",
      "13570    24.41\n",
      "13571    27.83\n",
      "13572    33.16\n",
      "13573    22.25\n",
      "13574    24.41\n",
      "13576    31.66\n",
      "13578    24.00\n",
      "13579    25.91\n",
      "13581    30.66\n",
      "13584    26.91\n",
      "13588    17.91\n",
      "13591    21.58\n",
      "13592    21.58\n",
      "Name: agepreg, dtype: float64\n"
     ]
    }
   ],
   "source": [
    "print age"
   ]
  },
  {
   "cell_type": "code",
   "execution_count": 32,
   "metadata": {
    "collapsed": false
   },
   "outputs": [
    {
     "name": "stdout",
     "output_type": "stream",
     "text": [
      "0         8\n",
      "1         7\n",
      "2         9\n",
      "3         7\n",
      "4         6\n",
      "5         8\n",
      "6         9\n",
      "7         8\n",
      "8         7\n",
      "9         6\n",
      "10        7\n",
      "11        7\n",
      "12        4\n",
      "15        7\n",
      "16        7\n",
      "17        6\n",
      "19        8\n",
      "20        8\n",
      "21        5\n",
      "23        6\n",
      "24        7\n",
      "25        6\n",
      "26        8\n",
      "27        7\n",
      "28        6\n",
      "29        7\n",
      "31        8\n",
      "32        7\n",
      "33        7\n",
      "34        7\n",
      "         ..\n",
      "13548    10\n",
      "13551     5\n",
      "13552     7\n",
      "13553     7\n",
      "13554     6\n",
      "13555     6\n",
      "13556     7\n",
      "13557     6\n",
      "13559     7\n",
      "13560     7\n",
      "13561     6\n",
      "13562     8\n",
      "13563     7\n",
      "13564     7\n",
      "13565     8\n",
      "13566     7\n",
      "13569     5\n",
      "13570     6\n",
      "13571     6\n",
      "13572     5\n",
      "13573     6\n",
      "13574     6\n",
      "13576     6\n",
      "13578     6\n",
      "13579     7\n",
      "13581     6\n",
      "13584     6\n",
      "13588     6\n",
      "13591     7\n",
      "13592     7\n",
      "Name: birthwgt_lb, dtype: float64\n"
     ]
    }
   ],
   "source": [
    "print weight"
   ]
  },
  {
   "cell_type": "code",
   "execution_count": 33,
   "metadata": {
    "collapsed": false
   },
   "outputs": [
    {
     "name": "stdout",
     "output_type": "stream",
     "text": [
      "0.0689622017115\n"
     ]
    }
   ],
   "source": [
    "import thinkstats2\n",
    "print thinkstats2.Corr(age, weight)"
   ]
  },
  {
   "cell_type": "code",
   "execution_count": 34,
   "metadata": {
    "collapsed": false
   },
   "outputs": [
    {
     "name": "stdout",
     "output_type": "stream",
     "text": [
      "0.0945629753464\n"
     ]
    }
   ],
   "source": [
    "print thinkstats2.SpearmanCorr(age, weight)"
   ]
  },
  {
   "cell_type": "code",
   "execution_count": 35,
   "metadata": {
    "collapsed": false
   },
   "outputs": [
    {
     "name": "stdout",
     "output_type": "stream",
     "text": [
      "The age of mother and the baby birth weight are very unrelated variables\n"
     ]
    }
   ],
   "source": [
    "print \"The age of mother and the baby birth weight are very unrelated variables\""
   ]
  }
 ],
 "metadata": {
  "kernelspec": {
   "display_name": "Python 2",
   "language": "python",
   "name": "python2"
  },
  "language_info": {
   "codemirror_mode": {
    "name": "ipython",
    "version": 2
   },
   "file_extension": ".py",
   "mimetype": "text/x-python",
   "name": "python",
   "nbconvert_exporter": "python",
   "pygments_lexer": "ipython2",
   "version": "2.7.11"
  }
 },
 "nbformat": 4,
 "nbformat_minor": 0
}
